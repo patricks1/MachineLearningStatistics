{
 "cells": [
  {
   "cell_type": "markdown",
   "metadata": {
    "deletable": true,
    "editable": true
   },
   "source": [
    "# Machine Learning and Statistics for Physicists"
   ]
  },
  {
   "cell_type": "markdown",
   "metadata": {
    "deletable": true,
    "editable": true
   },
   "source": [
    "Material for a [UC Irvine](https://uci.edu/) course offered by the [Department of Physics and Astronomy](https://www.physics.uci.edu/).\n",
    "\n",
    "Content is maintained on [github](github.com/dkirkby/MachineLearningStatistics) and distributed under a [BSD3 license](https://opensource.org/licenses/BSD-3-Clause)."
   ]
  },
  {
   "cell_type": "markdown",
   "metadata": {
    "deletable": true,
    "editable": true
   },
   "source": [
    "## Contents"
   ]
  },
  {
   "cell_type": "markdown",
   "metadata": {
    "deletable": true,
    "editable": true
   },
   "source": [
    "- [Setup your environment](Setup.ipynb)\n",
    "- [Reading list](References.ipynb)\n",
    "- [Homework assignments](Homework.ipynb)\n",
    "- [**Course introduction slides**](https://docs.google.com/presentation/d/1xRZ0KqonofChAkgAUg_tDucD-ra6C2uvFsU08GfDQRw/edit?usp=sharing) (older [notebook](Intro.ipynb))\n",
    "- [Notebooks and numerical python](JupyterNumpy.ipynb)\n",
    "- [Handle data](Pandas.ipynb)\n",
    "- [Visualize data](Visualization.ipynb)\n",
    "- [**Tensor computing**](TensorComputing.ipynb)\n",
    "- [**Find structure in data**](Clustering.ipynb)\n",
    "- [**Measure and reduce dimensionality**](Dimensionality.ipynb)\n",
    "- [Adapt linear methods to nonlinear problems](Nonlinear.ipynb)\n",
    "- [**Estimate probability density**](Density.ipynb)\n",
    "- [**Probability theory**](Probability.ipynb)\n",
    "- [**Statistical methods**](Statistics.ipynb)\n",
    "- [**Bayesian statistics**](Bayes.ipynb)\n",
    "- [**Markov-chain Monte Carlo in practice**](MCMC.ipynb)\n",
    "- [**Stochastic processes and Markov-chain theory**](Markov.ipynb)\n",
    "- [**Variational inference**](Variational.ipynb)\n",
    "- [**Optimization**](Optimization.ipynb)\n",
    "- [Computational graphs and probabilistic programming](Frameworks.ipynb)\n",
    "- [**Bayesian model selection**](ModelSelection.ipynb)\n",
    "- [Learning in a probabilistic context](Learning.ipynb)\n",
    "- [**Case Study: Redshift Inference**](Redshift.ipynb)\n",
    "- [Supervised learning in Scikit Learn](Supervised.ipynb)\n",
    "- [Cross validation](CrossValidation.ipynb)\n",
    "- [**Neural networks: introduction**](NeuralNetworks.ipynb)\n",
    "- [**Neural networks: best practices**](NNTricks.ipynb)\n",
    "- [**Supervised deep learning**](SupervisedDeep.ipynb)\n",
    "- [**Unsupervised deep learning**](UnsupervisedDeep.ipynb)\n",
    "- [Deep learning examples in tensorflow](DeepLearning.ipynb)\n",
    "\n",
    "**Boldfaced** entries are the suggested primary topics for a ten-week course."
   ]
  }
 ],
 "metadata": {
  "kernelspec": {
   "display_name": "Python 2",
   "language": "python",
   "name": "python2"
  },
  "language_info": {
   "codemirror_mode": {
    "name": "ipython",
    "version": 2
   },
   "file_extension": ".py",
   "mimetype": "text/x-python",
   "name": "python",
   "nbconvert_exporter": "python",
   "pygments_lexer": "ipython2",
   "version": "2.7.13"
  }
 },
 "nbformat": 4,
 "nbformat_minor": 2
}
