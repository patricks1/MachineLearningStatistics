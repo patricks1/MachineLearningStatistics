{
 "cells": [
  {
   "cell_type": "markdown",
   "metadata": {},
   "source": [
    "# Machine Learning and Statistics for Physicists"
   ]
  },
  {
   "cell_type": "markdown",
   "metadata": {},
   "source": [
    "Material for a [UC Irvine](https://uci.edu/) course offered by the [Department of Physics and Astronomy](https://www.physics.uci.edu/).\n",
    "\n",
    "Content is maintained on [github](github.com/dkirkby/MachineLearningStatistics) and distributed under a [BSD3 license](https://opensource.org/licenses/BSD-3-Clause).\n",
    "\n",
    "##### &#9658; [View table of contents](Contents.ipynb)"
   ]
  },
  {
   "cell_type": "markdown",
   "metadata": {},
   "source": [
    "## Homework"
   ]
  },
  {
   "cell_type": "markdown",
   "metadata": {},
   "source": [
    "Homework assignments for this course are jupyter notebooks created and managed with [nbgrader](http://nbgrader.readthedocs.io/en/latest/index.html).\n",
    "\n",
    "The homework assigned so far is listed below (check back for updates each week):\n",
    " - [Homework1](homework/Homework1.ipynb)\n",
    " - [Homework2](homework/Homework2.ipynb)\n",
    " - [Homework3](homework/Homework3.ipynb)\n",
    " - [Homework4](homework/Homework4.ipynb)\n",
    " - [Homework5](homework/Homework5.ipynb)\n",
    " - [Homework6](homework/Homework6.ipynb)\n",
    " \n",
    "**Remember to always work on a copy of each homework assignment (see details below).**"
   ]
  },
  {
   "cell_type": "markdown",
   "metadata": {},
   "source": [
    "### Create your personal repository"
   ]
  },
  {
   "cell_type": "markdown",
   "metadata": {},
   "source": [
    "Before you submit your first homework, you will need to create your personal repository under the [class github organization](https://github.com/uci-mls).\n",
    "\n",
    "Click [this link](https://github.com/organizations/uci-mls/repositories/new) and fill out the form following the example below. Be sure to replace `dkirkby` with your UCInetID.\n",
    "![Create homework repo 1](img/Homework/CreateHomeworkRepo1.png)\n",
    "\n",
    "To complete your initial homework setup, create an empty directory on your laptop where you will work on homework. You will copy each assignment to this directory before working on it.\n",
    "\n",
    "#### Github experts\n",
    "\n",
    "If you are comfortable using github and git commands (or want to start learning now), you can [clone your personal repo](https://help.github.com/articles/cloning-a-repository/) instead of creating an empty directory, then follow the **Github experts** instructions below."
   ]
  },
  {
   "cell_type": "markdown",
   "metadata": {},
   "source": [
    "### Complete each homework assignment"
   ]
  },
  {
   "cell_type": "markdown",
   "metadata": {},
   "source": [
    "**Copy each homework notebook from `MachineLearningStatistics/notebooks/homework/` to your homework directory before you start working on it (so your work is not lost when you later update `MachineLearningStats`) but do not change the filename.**\n",
    "\n",
    "Open your copy of the homework using, for example:\n",
    "```\n",
    "jupyter notebook Homework1.ipynb  # change Homework1.ipynb to the assignment you are working on\n",
    "```\n",
    "Follow the instructions in the notebook to complete the assignment. Before you turn your homework in:\n",
    "- Check that you have replaced any cells containing **YOUR CODE HERE**.\n",
    "- Remove any `raise NotImplementedError` statements.\n",
    "- Make sure everything runs as expected using **Kernel**$\\rightarrow$**Restart** followed by **Cell**$\\rightarrow$**Run All**.\n",
    "- Verify that any tests following each question run successfully.\n",
    "- Check that the size of your notebook does not exceed 1Mb, which should not normally occur. If your notebook exceeds this limit, remove any extra plots or print statements that might be generating a lot of additional output."
   ]
  },
  {
   "cell_type": "markdown",
   "metadata": {},
   "source": [
    "### Upload your homework"
   ]
  },
  {
   "cell_type": "markdown",
   "metadata": {},
   "source": [
    "This simplest way to upload your homework is to visit your personal repo, which will have a URL like:\n",
    "```\n",
    "https://github.com/uci-mls/dkirkby  # replace \"dkirkby\" with your UCInetID\n",
    "```\n",
    "You should see a page similar to the one below with an \"Upload files\" button (with your UCInetID instead of `dkirkby`):\n",
    "![Create homework repo 2](img/Homework/CreateHomeworkRepo2.png)\n",
    "\n",
    "Only upload the homework notebook file you are submitting (e.g., Homework1.ipynb).  You can also click \"Settings\" from this page, in case you originally created your repo with the wrong name.\n",
    "\n",
    "After uploading your homework, check that it is visible from your personal repo URL and click on it to check its contents.\n",
    "\n",
    "Your uploaded homework should still have a filename like `Homework1.ipynb`.  In case you renamed it at some point, you can fix that now by clicking on the edit icon and changing the name.\n",
    "\n",
    "#### Github experts\n",
    "\n",
    "If you are using a clone of your personal to work on homework, you can submit it with the following git commands:\n",
    "```\n",
    "git add Homework1.ipynb  # change Homework1.ipynb to the name of the file you want to upload\n",
    "git commit -m 'Submitted'\n",
    "git push\n",
    "```"
   ]
  }
 ],
 "metadata": {
  "kernelspec": {
   "display_name": "Python 3",
   "language": "python",
   "name": "python3"
  },
  "language_info": {
   "codemirror_mode": {
    "name": "ipython",
    "version": 3
   },
   "file_extension": ".py",
   "mimetype": "text/x-python",
   "name": "python",
   "nbconvert_exporter": "python",
   "pygments_lexer": "ipython3",
   "version": "3.9.2"
  }
 },
 "nbformat": 4,
 "nbformat_minor": 2
}
